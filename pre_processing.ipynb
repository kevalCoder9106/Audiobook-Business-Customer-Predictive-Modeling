{
 "cells": [
  {
   "cell_type": "code",
   "execution_count": 147,
   "id": "74bfa78c",
   "metadata": {},
   "outputs": [],
   "source": [
    "import numpy as np\n",
    "from sklearn import preprocessing"
   ]
  },
  {
   "cell_type": "code",
   "execution_count": 148,
   "id": "d1c41bc8",
   "metadata": {},
   "outputs": [],
   "source": [
    "raw_data = np.loadtxt('Audiobooks_data.csv', delimiter=',')"
   ]
  },
  {
   "cell_type": "code",
   "execution_count": 149,
   "id": "11b7ab20",
   "metadata": {},
   "outputs": [],
   "source": [
    "unscaled_inputs = raw_data[:, 1:-1]\n",
    "targets = raw_data[:, -1]"
   ]
  },
  {
   "cell_type": "code",
   "execution_count": 150,
   "id": "1ca4d81f",
   "metadata": {},
   "outputs": [],
   "source": [
    "# Balancing\n",
    "\n",
    "ones_count = int(np.sum(targets))\n",
    "indices_to_remove = []\n",
    "zeros_count = 0\n",
    "\n",
    "for i in range(targets.shape[0]):\n",
    "    if targets[i] == 0:\n",
    "        zeros_count += 1\n",
    "        if zeros_count > ones_count:\n",
    "            indices_to_remove.append(i)\n",
    "\n",
    "unscaled_inputs_bal = np.delete(unscaled_inputs, indices_to_remove, axis=0)\n",
    "targets_bal = np.delete(targets, indices_to_remove, axis=0)"
   ]
  },
  {
   "cell_type": "code",
   "execution_count": 151,
   "id": "fffd34b7",
   "metadata": {},
   "outputs": [],
   "source": [
    "onehot_encoded_targets = []\n",
    "for i in targets_bal:\n",
    "    t = [1,0] if i == 0 else [0,1]\n",
    "    onehot_encoded_targets.append(t)\n",
    "onhot_encoded_targets = np.array(onehot_encoded_targets)"
   ]
  },
  {
   "cell_type": "code",
   "execution_count": 152,
   "id": "0f2fd3ab",
   "metadata": {},
   "outputs": [],
   "source": [
    "# Standardizing\n",
    "\n",
    "scaled_inputs_bal = preprocessing.scale(unscaled_inputs_bal)"
   ]
  },
  {
   "cell_type": "code",
   "execution_count": 153,
   "id": "891693a0",
   "metadata": {},
   "outputs": [],
   "source": [
    "# Shuffle data\n",
    "\n",
    "shuffle_indices = np.arange(targets_bal.shape[0])\n",
    "np.random.shuffle(shuffle_indices)\n",
    "\n",
    "inputs = scaled_inputs_bal[shuffle_indices]\n",
    "targets = onhot_encoded_targets[shuffle_indices]"
   ]
  },
  {
   "cell_type": "code",
   "execution_count": 154,
   "id": "b6867adc",
   "metadata": {},
   "outputs": [],
   "source": [
    "# Train, Test, Validation\n",
    "\n",
    "sample_count = targets.shape[0]\n",
    "\n",
    "train_sample_count = int(0.9 * sample_count)\n",
    "val_sample_count = int(0.05 * sample_count)\n",
    "test_sample_count = int(0.05 * sample_count)\n",
    "\n",
    "train_sample_inputs = inputs[0:train_sample_count]\n",
    "train_sample_targets = targets[0:train_sample_count]\n",
    "\n",
    "val_sample_inputs = inputs[train_sample_count:train_sample_count+val_sample_count]\n",
    "val_sample_targets = targets[train_sample_count:train_sample_count+val_sample_count]\n",
    "\n",
    "test_sample_inputs = inputs[train_sample_count+val_sample_count:]\n",
    "test_sample_targets = targets[train_sample_count+val_sample_count:]"
   ]
  },
  {
   "cell_type": "code",
   "execution_count": 155,
   "id": "88491d56",
   "metadata": {},
   "outputs": [],
   "source": [
    "# Saving\n",
    "\n",
    "np.savez(\"train_data\", inputs=train_sample_inputs, targets=train_sample_targets)\n",
    "np.savez(\"val_data\", inputs=val_sample_inputs, targets=val_sample_targets)\n",
    "np.savez(\"test_data\", inputs=test_sample_inputs, targets=test_sample_targets)"
   ]
  },
  {
   "cell_type": "code",
   "execution_count": 156,
   "id": "96f8b554",
   "metadata": {},
   "outputs": [
    {
     "name": "stdout",
     "output_type": "stream",
     "text": [
      "1.0\n",
      "1.0\n",
      "1.0\n"
     ]
    }
   ],
   "source": [
    "print(np.sum(train_sample_targets) / train_sample_targets.shape[0])\n",
    "print(np.sum(val_sample_targets) / val_sample_targets.shape[0])\n",
    "print(np.sum(test_sample_targets) / test_sample_targets.shape[0])"
   ]
  }
 ],
 "metadata": {
  "kernelspec": {
   "display_name": "Python 3 (ipykernel)",
   "language": "python",
   "name": "python3"
  },
  "language_info": {
   "codemirror_mode": {
    "name": "ipython",
    "version": 3
   },
   "file_extension": ".py",
   "mimetype": "text/x-python",
   "name": "python",
   "nbconvert_exporter": "python",
   "pygments_lexer": "ipython3",
   "version": "3.9.13"
  }
 },
 "nbformat": 4,
 "nbformat_minor": 5
}
